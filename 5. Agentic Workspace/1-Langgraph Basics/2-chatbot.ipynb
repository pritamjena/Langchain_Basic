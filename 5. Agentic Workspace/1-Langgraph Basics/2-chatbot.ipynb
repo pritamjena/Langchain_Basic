{
 "cells": [
  {
   "cell_type": "markdown",
   "metadata": {},
   "source": [
    "### Implementing simple Chatbot Using LangGraph"
   ]
  },
  {
   "cell_type": "code",
   "execution_count": 1,
   "metadata": {},
   "outputs": [],
   "source": [
    "from typing_extensions import TypedDict\n",
    "\n",
    "from langgraph.graph import StateGraph, START, END\n",
    "\n",
    "## Reducers\n",
    "from typing import Annotated\n",
    "from langgraph.graph.message import add_messages"
   ]
  },
  {
   "cell_type": "code",
   "execution_count": 2,
   "metadata": {},
   "outputs": [],
   "source": [
    "class State(TypedDict):\n",
    "    messages:Annotated[list,add_messages]"
   ]
  },
  {
   "cell_type": "code",
   "execution_count": 3,
   "metadata": {},
   "outputs": [],
   "source": [
    "import os\n",
    "from dotenv import load_dotenv\n",
    "load_dotenv()\n",
    "\n",
    "os.environ[\"OPENAI_API_KEY\"]=os.getenv(\"OPENAI_API_KEY\")\n",
    "os.environ[\"GROQ_API_KEY\"]=os.getenv(\"GROQ_API_KEY\")\n"
   ]
  },
  {
   "cell_type": "code",
   "execution_count": 5,
   "metadata": {},
   "outputs": [
    {
     "data": {
      "text/plain": [
       "AIMessage(content=\"\\n<think>\\nOkay, the user is Pritam and he likes to play cricket. I should respond in a friendly way. Let me start by greeting him and acknowledging his interest in cricket. Maybe ask him about his favorite player or position? That could keep the conversation going. I should also mention some popular cricket topics like recent matches or tournaments to show I'm engaged. Need to make sure the tone is casual and approachable. Let me check for any typos and keep it concise. Alright, let's put that together.\\n\\nWait, maybe I should also ask if he prefers playing a particular role, like batting or bowling. And maybe mention the World Cup if it's relevant. Hmm, yes, that sounds good. Let me make sure the questions are open-ended so he can choose what to talk about. Avoid any technical jargon so it's easy to follow. Okay, I think that's all. Time to write the response.\\n</think>\\n\\nHey Pritam! Nice to meet you. Cricket is a fantastic sport—what position do you enjoy playing the most, batting or bowling? 😊 Are you a fan of any particular team or player? I’d love to chat about it! If you’re into current events, have you been following any recent matches or tournaments? Let me know—I’m all ears! ⚾\", additional_kwargs={}, response_metadata={'token_usage': {'completion_tokens': 268, 'prompt_tokens': 22, 'total_tokens': 290, 'completion_time': 0.634597645, 'prompt_time': 0.004043974, 'queue_time': 1.4590632669999999, 'total_time': 0.638641619}, 'model_name': 'qwen-qwq-32b', 'system_fingerprint': 'fp_28178d7ff6', 'finish_reason': 'stop', 'logprobs': None}, id='run--4b633314-70b0-4479-af25-75036cf09eec-0', usage_metadata={'input_tokens': 22, 'output_tokens': 268, 'total_tokens': 290})"
      ]
     },
     "execution_count": 5,
     "metadata": {},
     "output_type": "execute_result"
    }
   ],
   "source": [
    "from langchain_groq import ChatGroq\n",
    "\n",
    "llm_groq=ChatGroq(model=\"qwen-qwq-32b\")\n",
    "llm_groq.invoke(\"Hey I am Pritam and i like to play cricket\")"
   ]
  },
  {
   "cell_type": "markdown",
   "metadata": {},
   "source": [
    "### We Will start With Creating Nodes"
   ]
  },
  {
   "cell_type": "code",
   "execution_count": 7,
   "metadata": {},
   "outputs": [],
   "source": [
    "def superbot(state:State):\n",
    "    return {\"messages\":[llm_groq.invoke(state['messages'])]}"
   ]
  },
  {
   "cell_type": "code",
   "execution_count": 8,
   "metadata": {},
   "outputs": [
    {
     "data": {
      "image/png": "[encoded data removed]",
      "text/plain": [
       "<IPython.core.display.Image object>"
      ]
     },
     "metadata": {},
     "output_type": "display_data"
    }
   ],
   "source": [
    "graph=StateGraph(State)\n",
    "\n",
    "## node\n",
    "graph.add_node(\"SuperBot\",superbot)\n",
    "## Edges\n",
    "\n",
    "graph.add_edge(START,\"SuperBot\")\n",
    "graph.add_edge(\"SuperBot\",END)\n",
    "\n",
    "\n",
    "graph_builder=graph.compile()\n",
    "\n",
    "\n",
    "## Display\n",
    "from IPython.display import Image, display\n",
    "display(Image(graph_builder.get_graph().draw_mermaid_png()))"
   ]
  },
  {
   "cell_type": "code",
   "execution_count": 9,
   "metadata": {},
   "outputs": [
    {
     "data": {
      "text/plain": [
       "{'messages': [HumanMessage(content='Hi,My name is Pritam And I like cricket', additional_kwargs={}, response_metadata={}, id='ed9ac33c-d1c2-4c2f-8b8c-d4457d53800e'),\n",
       "  AIMessage(content=\"\\n<think>\\nOkay, the user introduced themselves as Pritam and mentioned they like cricket. I should respond warmly. Let me start by greeting them back and acknowledging their name and interest. Maybe ask a follow-up question about their favorite team or player to keep the conversation going. I should keep it friendly and open-ended. Let me make sure there are no typos and that the tone is positive. Alright, let's put that together.\\n</think>\\n\\nHello Pritam! Nice to meet you. That's a great interest—cricket is such a thrilling sport! Do you have a favorite cricket team or player? Feel free to share anything else you'd like to talk about. 😊\", additional_kwargs={}, response_metadata={'token_usage': {'completion_tokens': 138, 'prompt_tokens': 22, 'total_tokens': 160, 'completion_time': 0.321084959, 'prompt_time': 0.003190976, 'queue_time': 0.321181167, 'total_time': 0.324275935}, 'model_name': 'qwen-qwq-32b', 'system_fingerprint': 'fp_a91d9c2cfb', 'finish_reason': 'stop', 'logprobs': None}, id='run--416eb72a-1458-4b93-8887-8c01742ff498-0', usage_metadata={'input_tokens': 22, 'output_tokens': 138, 'total_tokens': 160})]}"
      ]
     },
     "execution_count": 9,
     "metadata": {},
     "output_type": "execute_result"
    }
   ],
   "source": [
    "## Invocation\n",
    "\n",
    "graph_builder.invoke({'messages':\"Hi,My name is Pritam And I like cricket\"})"
   ]
  },
  {
   "cell_type": "markdown",
   "metadata": {},
   "source": [
    "#### Streaming The responses"
   ]
  },
  {
   "cell_type": "code",
   "execution_count": 12,
   "metadata": {},
   "outputs": [
    {
     "name": "stdout",
     "output_type": "stream",
     "text": [
      "{'SuperBot': {'messages': [AIMessage(content='\\n<think>\\nOkay, the user said \"Hello My name is Pritam\". I need to respond appropriately. Let me start with a friendly greeting. I should acknowledge their name to make it personal. Maybe say something like \"Hello Pritam! Nice to meet you.\" Then I can offer assistance by asking how I can help them today. Keep it simple and open-ended so they feel comfortable to ask anything. Let me check if that\\'s clear and friendly enough. Yep, that should work.\\n</think>\\n\\nHello Pritam! Nice to meet you. How can I assist you today? Feel free to ask anything! 😊', additional_kwargs={}, response_metadata={'token_usage': {'completion_tokens': 126, 'prompt_tokens': 17, 'total_tokens': 143, 'completion_time': 0.310094719, 'prompt_time': 0.003379111, 'queue_time': 0.244403948, 'total_time': 0.31347383}, 'model_name': 'qwen-qwq-32b', 'system_fingerprint': 'fp_1e88ca32eb', 'finish_reason': 'stop', 'logprobs': None}, id='run--45290c32-c0d4-4bfc-b2ec-8a48bc34dbec-0', usage_metadata={'input_tokens': 17, 'output_tokens': 126, 'total_tokens': 143})]}}\n"
     ]
    }
   ],
   "source": [
    "for event in graph_builder.stream({\"messages\":\"Hello My name is Pritam\"}):\n",
    "    print(event)"
   ]
  },
  {
   "cell_type": "code",
   "execution_count": null,
   "metadata": {},
   "outputs": [],
   "source": []
  }
 ],
 "metadata": {
  "kernelspec": {
   "display_name": "genai_env",
   "language": "python",
   "name": "python3"
  },
  "language_info": {
   "codemirror_mode": {
    "name": "ipython",
    "version": 3
   },
   "file_extension": ".py",
   "mimetype": "text/x-python",
   "name": "python",
   "nbconvert_exporter": "python",
   "pygments_lexer": "ipython3",
   "version": "3.11.0"
  }
 },
 "nbformat": 4,
 "nbformat_minor": 2
}
